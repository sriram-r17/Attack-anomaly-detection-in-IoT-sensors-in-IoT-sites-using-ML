{
 "cells": [
  {
   "cell_type": "markdown",
   "metadata": {},
   "source": [
    "# Importing libraries"
   ]
  },
  {
   "cell_type": "code",
   "execution_count": 1,
   "metadata": {},
   "outputs": [],
   "source": [
    "import pandas as pd\n",
    "import numpy as np\n",
    "import time\n",
    "import matplotlib.pyplot as plt\n",
    "from sklearn.model_selection import learning_curve\n",
    "from sklearn.svm import LinearSVC\n",
    "from sklearn import tree\n",
    "from sklearn.svm import SVC\n",
    "import matplotlib.pyplot as plt  \n",
    "from sklearn.datasets import make_classification\n",
    "from sklearn.ensemble import RandomForestClassifier\n",
    "from sklearn.linear_model import LogisticRegression\n",
    "from sklearn.model_selection import cross_val_score\n",
    "from sklearn.preprocessing import StandardScaler\n",
    "from sklearn.pipeline import Pipeline\n",
    "from sklearn.neural_network import MLPClassifier\n",
    "from sklearn.metrics import accuracy_score\n",
    "from sklearn.metrics import classification_report\n",
    "from sklearn.metrics import confusion_matrix\n",
    "import itertools\n",
    "import time\n",
    "from sklearn.multiclass import OneVsRestClassifier\n",
    "from sklearn.metrics import roc_curve, auc\n",
    "from scipy import interp\n"
   ]
  },
  {
   "cell_type": "markdown",
   "metadata": {},
   "source": [
    "# Reading from the preprocessed dataset"
   ]
  },
  {
   "cell_type": "code",
   "execution_count": 2,
   "metadata": {},
   "outputs": [],
   "source": [
    "df=pd.read_csv('DF_F.csv')\n",
    "df.drop(columns=\"Unnamed: 0\",inplace=True)"
   ]
  },
  {
   "cell_type": "code",
   "execution_count": 3,
   "metadata": {},
   "outputs": [
    {
     "data": {
      "text/html": [
       "<div>\n",
       "<style scoped>\n",
       "    .dataframe tbody tr th:only-of-type {\n",
       "        vertical-align: middle;\n",
       "    }\n",
       "\n",
       "    .dataframe tbody tr th {\n",
       "        vertical-align: top;\n",
       "    }\n",
       "\n",
       "    .dataframe thead th {\n",
       "        text-align: right;\n",
       "    }\n",
       "</style>\n",
       "<table border=\"1\" class=\"dataframe\">\n",
       "  <thead>\n",
       "    <tr style=\"text-align: right;\">\n",
       "      <th></th>\n",
       "      <th>0</th>\n",
       "      <th>1</th>\n",
       "      <th>2</th>\n",
       "      <th>3</th>\n",
       "      <th>4</th>\n",
       "      <th>5</th>\n",
       "      <th>6</th>\n",
       "      <th>7</th>\n",
       "      <th>8</th>\n",
       "      <th>9</th>\n",
       "      <th>10</th>\n",
       "      <th>11</th>\n",
       "    </tr>\n",
       "  </thead>\n",
       "  <tbody>\n",
       "    <tr>\n",
       "      <td>0</td>\n",
       "      <td>7</td>\n",
       "      <td>21</td>\n",
       "      <td>30</td>\n",
       "      <td>2</td>\n",
       "      <td>3</td>\n",
       "      <td>30</td>\n",
       "      <td>2</td>\n",
       "      <td>3</td>\n",
       "      <td>59</td>\n",
       "      <td>7</td>\n",
       "      <td>2</td>\n",
       "      <td>0</td>\n",
       "    </tr>\n",
       "    <tr>\n",
       "      <td>1</td>\n",
       "      <td>7</td>\n",
       "      <td>32</td>\n",
       "      <td>70</td>\n",
       "      <td>2</td>\n",
       "      <td>4</td>\n",
       "      <td>68</td>\n",
       "      <td>2</td>\n",
       "      <td>4</td>\n",
       "      <td>134</td>\n",
       "      <td>7</td>\n",
       "      <td>2</td>\n",
       "      <td>0</td>\n",
       "    </tr>\n",
       "    <tr>\n",
       "      <td>2</td>\n",
       "      <td>7</td>\n",
       "      <td>15</td>\n",
       "      <td>1</td>\n",
       "      <td>2</td>\n",
       "      <td>2</td>\n",
       "      <td>0</td>\n",
       "      <td>2</td>\n",
       "      <td>2</td>\n",
       "      <td>0</td>\n",
       "      <td>7</td>\n",
       "      <td>2</td>\n",
       "      <td>0</td>\n",
       "    </tr>\n",
       "    <tr>\n",
       "      <td>3</td>\n",
       "      <td>7</td>\n",
       "      <td>33</td>\n",
       "      <td>77</td>\n",
       "      <td>2</td>\n",
       "      <td>7</td>\n",
       "      <td>73</td>\n",
       "      <td>2</td>\n",
       "      <td>7</td>\n",
       "      <td>144</td>\n",
       "      <td>7</td>\n",
       "      <td>2</td>\n",
       "      <td>0</td>\n",
       "    </tr>\n",
       "    <tr>\n",
       "      <td>4</td>\n",
       "      <td>7</td>\n",
       "      <td>55</td>\n",
       "      <td>78</td>\n",
       "      <td>3</td>\n",
       "      <td>7</td>\n",
       "      <td>74</td>\n",
       "      <td>3</td>\n",
       "      <td>7</td>\n",
       "      <td>146</td>\n",
       "      <td>8</td>\n",
       "      <td>2</td>\n",
       "      <td>0</td>\n",
       "    </tr>\n",
       "    <tr>\n",
       "      <td>5</td>\n",
       "      <td>7</td>\n",
       "      <td>66</td>\n",
       "      <td>34</td>\n",
       "      <td>4</td>\n",
       "      <td>3</td>\n",
       "      <td>32</td>\n",
       "      <td>4</td>\n",
       "      <td>3</td>\n",
       "      <td>64</td>\n",
       "      <td>9</td>\n",
       "      <td>2</td>\n",
       "      <td>0</td>\n",
       "    </tr>\n",
       "    <tr>\n",
       "      <td>6</td>\n",
       "      <td>7</td>\n",
       "      <td>43</td>\n",
       "      <td>32</td>\n",
       "      <td>3</td>\n",
       "      <td>3</td>\n",
       "      <td>31</td>\n",
       "      <td>3</td>\n",
       "      <td>3</td>\n",
       "      <td>61</td>\n",
       "      <td>8</td>\n",
       "      <td>2</td>\n",
       "      <td>0</td>\n",
       "    </tr>\n",
       "    <tr>\n",
       "      <td>7</td>\n",
       "      <td>7</td>\n",
       "      <td>78</td>\n",
       "      <td>79</td>\n",
       "      <td>4</td>\n",
       "      <td>7</td>\n",
       "      <td>75</td>\n",
       "      <td>4</td>\n",
       "      <td>7</td>\n",
       "      <td>149</td>\n",
       "      <td>9</td>\n",
       "      <td>2</td>\n",
       "      <td>0</td>\n",
       "    </tr>\n",
       "    <tr>\n",
       "      <td>8</td>\n",
       "      <td>7</td>\n",
       "      <td>61</td>\n",
       "      <td>4</td>\n",
       "      <td>4</td>\n",
       "      <td>2</td>\n",
       "      <td>2</td>\n",
       "      <td>4</td>\n",
       "      <td>2</td>\n",
       "      <td>5</td>\n",
       "      <td>9</td>\n",
       "      <td>2</td>\n",
       "      <td>0</td>\n",
       "    </tr>\n",
       "    <tr>\n",
       "      <td>9</td>\n",
       "      <td>7</td>\n",
       "      <td>37</td>\n",
       "      <td>2</td>\n",
       "      <td>3</td>\n",
       "      <td>2</td>\n",
       "      <td>1</td>\n",
       "      <td>3</td>\n",
       "      <td>2</td>\n",
       "      <td>2</td>\n",
       "      <td>8</td>\n",
       "      <td>2</td>\n",
       "      <td>0</td>\n",
       "    </tr>\n",
       "  </tbody>\n",
       "</table>\n",
       "</div>"
      ],
      "text/plain": [
       "   0   1   2  3  4   5  6  7    8  9  10  11\n",
       "0  7  21  30  2  3  30  2  3   59  7   2   0\n",
       "1  7  32  70  2  4  68  2  4  134  7   2   0\n",
       "2  7  15   1  2  2   0  2  2    0  7   2   0\n",
       "3  7  33  77  2  7  73  2  7  144  7   2   0\n",
       "4  7  55  78  3  7  74  3  7  146  8   2   0\n",
       "5  7  66  34  4  3  32  4  3   64  9   2   0\n",
       "6  7  43  32  3  3  31  3  3   61  8   2   0\n",
       "7  7  78  79  4  7  75  4  7  149  9   2   0\n",
       "8  7  61   4  4  2   2  4  2    5  9   2   0\n",
       "9  7  37   2  3  2   1  3  2    2  8   2   0"
      ]
     },
     "execution_count": 3,
     "metadata": {},
     "output_type": "execute_result"
    }
   ],
   "source": [
    "df.head(10)"
   ]
  },
  {
   "cell_type": "markdown",
   "metadata": {},
   "source": [
    "# Spliting the dataset as training and testing data [80% training and 20% testing]"
   ]
  },
  {
   "cell_type": "code",
   "execution_count": 4,
   "metadata": {},
   "outputs": [],
   "source": [
    "from sklearn.model_selection import train_test_split"
   ]
  },
  {
   "cell_type": "code",
   "execution_count": 5,
   "metadata": {},
   "outputs": [],
   "source": [
    "feature=df.iloc[:,0].values\n",
    "label=df.iloc[:,1:].values"
   ]
  },
  {
   "cell_type": "code",
   "execution_count": 6,
   "metadata": {},
   "outputs": [],
   "source": [
    "x_train, x_test, y_train, y_test = train_test_split(label,feature,test_size=0.20,random_state=1)"
   ]
  },
  {
   "cell_type": "markdown",
   "metadata": {},
   "source": [
    "# Logistic Regresssion "
   ]
  },
  {
   "cell_type": "markdown",
   "metadata": {},
   "source": [
    "Five-fold cross-validation"
   ]
  },
  {
   "cell_type": "markdown",
   "metadata": {},
   "source": [
    "Training the model"
   ]
  },
  {
   "cell_type": "code",
   "execution_count": 7,
   "metadata": {},
   "outputs": [
    {
     "name": "stdout",
     "output_type": "stream",
     "text": [
      "146.93165516853333\n"
     ]
    }
   ],
   "source": [
    "start = time.time()\n",
    "pipe_lr = Pipeline([('scl', StandardScaler()),('clf', LogisticRegression(penalty='l2', random_state=0))])\n",
    "train_sizes, train_scores, test_scores = learning_curve(estimator=pipe_lr,X=label, y=feature, train_sizes=np.linspace(0.2,1.0,5), cv=5, n_jobs=-1)\n",
    "end = time.time()\n",
    "print(end-start)"
   ]
  },
  {
   "cell_type": "code",
   "execution_count": 8,
   "metadata": {},
   "outputs": [],
   "source": [
    "time_l_lr=end-start\n",
    "train_mean_lr=np.mean(train_scores,axis=1)\n",
    "test_mean_lr=np.mean(test_scores,axis=1)"
   ]
  },
  {
   "cell_type": "code",
   "execution_count": 9,
   "metadata": {},
   "outputs": [],
   "source": [
    "train_std_lr=np.std(train_scores,axis=1)\n",
    "test_std_lr=np.std(test_scores,axis=1)"
   ]
  },
  {
   "cell_type": "code",
   "execution_count": 10,
   "metadata": {},
   "outputs": [],
   "source": [
    "from prettytable import PrettyTable\n"
   ]
  },
  {
   "cell_type": "code",
   "execution_count": 11,
   "metadata": {},
   "outputs": [
    {
     "name": "stdout",
     "output_type": "stream",
     "text": [
      "+-------------+--------------------+--------------------+------------------------+----------------------+\n",
      "| train_sizes |   train_mean_lr    |    test_mean_lr    |      train_std_lr      |     test_std_lr      |\n",
      "+-------------+--------------------+--------------------+------------------------+----------------------+\n",
      "|    57270    | 0.9864361795006111 | 0.9551685211991015 | 0.00012850266801448974 | 0.018037876742566787 |\n",
      "|    114540   | 0.986425702811245  | 0.9494050022698023 | 0.0015382410038534613  | 0.019818351883659015 |\n",
      "|    171811   | 0.9861545535501218 | 0.9769431369185932 |  0.003106913909812321  | 0.006981886007341696 |\n",
      "|    229081   | 0.9860669370222761 | 0.9835559715568669 |  0.001970943285908776  | 0.008648739752104305 |\n",
      "|    286352   | 0.9881299938537186 | 0.9873052029594792 |  0.001509308386858485  | 0.007447182644155742 |\n",
      "+-------------+--------------------+--------------------+------------------------+----------------------+\n"
     ]
    }
   ],
   "source": [
    "x = PrettyTable()\n",
    "x.field_names = ['train_sizes','train_mean_lr','test_mean_lr','train_std_lr','test_std_lr']\n",
    "\n",
    "for i1,i2,i3,i4,i5 in zip(train_sizes,train_mean_lr,test_mean_lr,train_std_lr,test_std_lr):\n",
    "    x.add_row([i1,i2,i3,i4,i5])\n",
    "print(x)"
   ]
  },
  {
   "cell_type": "code",
   "execution_count": 12,
   "metadata": {},
   "outputs": [
    {
     "name": "stdout",
     "output_type": "stream",
     "text": [
      "mean values of training_mean, training_standard_deviation, testing_mean, testing_standard_deviation are given below in respective order :\n",
      "0.9866426733475944\n",
      "0.0016507818508895065\n",
      "0.9704755669807688\n",
      "0.012186807405965509\n"
     ]
    }
   ],
   "source": [
    "print('mean values of training_mean, training_standard_deviation, testing_mean, testing_standard_deviation are given below in respective order :')\n",
    "print(np.mean(train_mean_lr))\n",
    "print(np.mean(train_std_lr))\n",
    "print(np.mean(test_mean_lr))\n",
    "print(np.mean(test_std_lr))\n"
   ]
  },
  {
   "cell_type": "markdown",
   "metadata": {},
   "source": [
    "Learning curve for LR"
   ]
  },
  {
   "cell_type": "code",
   "execution_count": 13,
   "metadata": {},
   "outputs": [
    {
     "data": {
      "image/png": "[encoded data removed]",
      "text/plain": [
       "<Figure size 432x288 with 1 Axes>"
      ]
     },
     "metadata": {
      "needs_background": "light"
     },
     "output_type": "display_data"
    }
   ],
   "source": [
    "import matplotlib.pyplot as plt\n",
    "plt.plot(train_sizes,train_mean_lr,'--',color=\"b\",label=\"Training score\")\n",
    "plt.plot(train_sizes,test_mean_lr,'--',color=\"g\",label=\"Crossvalidation  score\")\n",
    "plt.title('Learning curve for LR')\n",
    "plt.xlabel('Training set size'),plt.ylabel(\"accuracy score\"),plt.legend(loc='best')\n",
    "plt.tight_layout()\n",
    "plt.show()"
   ]
  },
  {
   "cell_type": "markdown",
   "metadata": {},
   "source": [
    "Testing and evaluation"
   ]
  },
  {
   "cell_type": "code",
   "execution_count": 14,
   "metadata": {},
   "outputs": [
    {
     "name": "stdout",
     "output_type": "stream",
     "text": [
      "21.445029973983765\n"
     ]
    },
    {
     "name": "stderr",
     "output_type": "stream",
     "text": [
      "C:\\Users\\srira\\Anaconda3\\lib\\site-packages\\sklearn\\linear_model\\_logistic.py:765: ConvergenceWarning: lbfgs failed to converge (status=1):\n",
      "STOP: TOTAL NO. of ITERATIONS REACHED LIMIT.\n",
      "\n",
      "Increase the number of iterations (max_iter) or scale the data as shown in:\n",
      "    https://scikit-learn.org/stable/modules/preprocessing.html\n",
      "Please also refer to the documentation for alternative solver options:\n",
      "    https://scikit-learn.org/stable/modules/linear_model.html#logistic-regression\n",
      "  extra_warning_msg=_LOGISTIC_SOLVER_CONVERGENCE_MSG)\n"
     ]
    }
   ],
   "source": [
    "start=time.time()\n",
    "pipe_lr=pipe_lr.fit(x_train, y_train)\n",
    "y_pred_train=pipe_lr.predict(x_train)\n",
    "y_pred_test=pipe_lr.predict(x_test)\n",
    "end=time.time()\n",
    "print(end-start)\n",
    "time_fit_lr=end-start"
   ]
  },
  {
   "cell_type": "markdown",
   "metadata": {},
   "source": [
    "Accuracy"
   ]
  },
  {
   "cell_type": "code",
   "execution_count": 15,
   "metadata": {},
   "outputs": [],
   "source": [
    "lr_acc_train=accuracy_score(y_train, y_pred_train)"
   ]
  },
  {
   "cell_type": "code",
   "execution_count": 16,
   "metadata": {},
   "outputs": [],
   "source": [
    "lr_acc_test=accuracy_score(y_test, y_pred_test)"
   ]
  },
  {
   "cell_type": "code",
   "execution_count": 17,
   "metadata": {},
   "outputs": [
    {
     "name": "stdout",
     "output_type": "stream",
     "text": [
      "Training accuracy - Logistic Regression : 0.9876899759736268\n"
     ]
    }
   ],
   "source": [
    "print('Training accuracy - Logistic Regression :', lr_acc_train)"
   ]
  },
  {
   "cell_type": "code",
   "execution_count": 18,
   "metadata": {},
   "outputs": [
    {
     "name": "stdout",
     "output_type": "stream",
     "text": [
      "Testing accuracy - Logistic Regression : 0.9874701420609312\n"
     ]
    }
   ],
   "source": [
    "print('Testing accuracy - Logistic Regression :', lr_acc_test)"
   ]
  },
  {
   "cell_type": "markdown",
   "metadata": {},
   "source": [
    "Classification_Report"
   ]
  },
  {
   "cell_type": "markdown",
   "metadata": {},
   "source": [
    "Training classification report"
   ]
  },
  {
   "cell_type": "code",
   "execution_count": 19,
   "metadata": {},
   "outputs": [
    {
     "name": "stdout",
     "output_type": "stream",
     "text": [
      "                    precision    recall  f1-score   support\n",
      "\n",
      "            Normal       0.96      0.65      0.78      4602\n",
      "         DoSattack       0.69      0.29      0.41       279\n",
      "              scan       0.97      0.92      0.95       720\n",
      "  malitiousControl       0.80      0.48      0.60       650\n",
      "malitiousOperation       0.90      0.50      0.64      1242\n",
      "            spying       0.00      0.00      0.00       412\n",
      "       dataProbing       0.91      1.00      0.95        94\n",
      "        wrongSetUp       0.99      1.00      0.99    278353\n",
      "\n",
      "          accuracy                           0.99    286352\n",
      "         macro avg       0.78      0.60      0.67    286352\n",
      "      weighted avg       0.99      0.99      0.99    286352\n",
      "\n"
     ]
    }
   ],
   "source": [
    "target_names = ['Normal','DoSattack','scan','malitiousControl','malitiousOperation','spying','dataProbing', 'wrongSetUp']\n",
    "print(classification_report(y_train, y_pred_train, target_names=target_names))"
   ]
  },
  {
   "cell_type": "markdown",
   "metadata": {},
   "source": [
    "Testing Classification Report"
   ]
  },
  {
   "cell_type": "code",
   "execution_count": 20,
   "metadata": {},
   "outputs": [
    {
     "name": "stdout",
     "output_type": "stream",
     "text": [
      "                    precision    recall  f1-score   support\n",
      "\n",
      "            Normal       0.95      0.66      0.78      1178\n",
      "         DoSattack       0.70      0.30      0.42        63\n",
      "              scan       0.97      0.92      0.94       169\n",
      "  malitiousControl       0.81      0.50      0.62       155\n",
      "malitiousOperation       0.88      0.47      0.61       305\n",
      "            spying       0.00      0.00      0.00       120\n",
      "       dataProbing       0.93      1.00      0.97        28\n",
      "        wrongSetUp       0.99      1.00      0.99     69571\n",
      "\n",
      "          accuracy                           0.99     71589\n",
      "         macro avg       0.78      0.61      0.67     71589\n",
      "      weighted avg       0.99      0.99      0.99     71589\n",
      "\n"
     ]
    }
   ],
   "source": [
    "print(classification_report(y_test, y_pred_test, target_names=target_names))"
   ]
  },
  {
   "cell_type": "markdown",
   "metadata": {},
   "source": [
    "Confusion matrix"
   ]
  },
  {
   "cell_type": "code",
   "execution_count": 21,
   "metadata": {},
   "outputs": [
    {
     "name": "stdout",
     "output_type": "stream",
     "text": [
      "[[  775     0     0     0     0     0     0   403]\n",
      " [    0    19     0     0     0     0     0    44]\n",
      " [    0     0   155     0     0     0     0    14]\n",
      " [    0     0     0    78     0     0     0    77]\n",
      " [    5     0     5     0   143     0     2   150]\n",
      " [    0     0     0     0    16     0     0   104]\n",
      " [    0     0     0     0     0     0    28     0]\n",
      " [   33     8     0    18     3    15     0 69494]]\n"
     ]
    }
   ],
   "source": [
    "cnf_matrix = confusion_matrix(y_test, y_pred_test)\n",
    "print(cnf_matrix)"
   ]
  },
  {
   "cell_type": "markdown",
   "metadata": {},
   "source": [
    "# Decision Tree"
   ]
  },
  {
   "cell_type": "markdown",
   "metadata": {},
   "source": [
    "Five-fold cross-validation"
   ]
  },
  {
   "cell_type": "markdown",
   "metadata": {},
   "source": [
    "Training the model"
   ]
  },
  {
   "cell_type": "code",
   "execution_count": 22,
   "metadata": {},
   "outputs": [
    {
     "name": "stdout",
     "output_type": "stream",
     "text": [
      "14.923732042312622\n"
     ]
    }
   ],
   "source": [
    "start = time.time()\n",
    "pipe_dt = Pipeline([('scl', StandardScaler()),('clf', tree.DecisionTreeClassifier())])\n",
    "train_sizes_dt, train_scores_dt, test_scores_dt = learning_curve(estimator=pipe_dt,X=label, y=feature, train_sizes=np.linspace(0.2,1.0,5), cv=5, n_jobs=-1)\n",
    "end = time.time()\n",
    "print(end-start)"
   ]
  },
  {
   "cell_type": "code",
   "execution_count": 23,
   "metadata": {},
   "outputs": [],
   "source": [
    "time_l_dt = end-start\n",
    "train_mean_dt = np.mean(train_scores_dt, axis=1)\n",
    "test_mean_dt = np.mean(test_scores_dt, axis=1)"
   ]
  },
  {
   "cell_type": "code",
   "execution_count": 24,
   "metadata": {},
   "outputs": [],
   "source": [
    "train_std_dt = np.std(train_scores_dt, axis=1)\n",
    "test_std_dt = np.std(test_scores_dt, axis=1)"
   ]
  },
  {
   "cell_type": "code",
   "execution_count": 25,
   "metadata": {},
   "outputs": [
    {
     "name": "stdout",
     "output_type": "stream",
     "text": [
      "+-------------+--------------------+--------------------+-----------------------+-----------------------+\n",
      "| train_sizes |   train_mean_dt    |    test_mean_dt    |      train_std_dt     |      test_std_dt      |\n",
      "+-------------+--------------------+--------------------+-----------------------+-----------------------+\n",
      "|    57270    | 0.9947337174786102 | 0.9746578012180128 | 0.0010384672445031108 |  0.007597964805953659 |\n",
      "|    114540   | 0.9937646237122403 | 0.9742638803320938 | 0.0010535513804165093 |  0.008198812687779571 |\n",
      "|    171811   | 0.9937757186676057 | 0.9777197939549469 | 0.0009204370076839512 |  0.00815397691441611  |\n",
      "|    229081   | 0.9942928483811404 | 0.9854026373221018 | 0.0012113681336286004 |  0.008511803791094393 |\n",
      "|    286352   | 0.9946974353243562 | 0.9901408584834972 | 0.0015379136519052747 | 0.0050895699742845805 |\n",
      "+-------------+--------------------+--------------------+-----------------------+-----------------------+\n"
     ]
    }
   ],
   "source": [
    "\n",
    "x = PrettyTable()\n",
    "x.field_names = ['train_sizes','train_mean_dt','test_mean_dt','train_std_dt','test_std_dt']\n",
    "\n",
    "for i1,i2,i3,i4,i5 in zip(train_sizes_dt,train_mean_dt,test_mean_dt,train_std_dt,test_std_dt):\n",
    "    x.add_row([i1,i2,i3,i4,i5])\n",
    "print(x)"
   ]
  },
  {
   "cell_type": "code",
   "execution_count": 26,
   "metadata": {},
   "outputs": [
    {
     "name": "stdout",
     "output_type": "stream",
     "text": [
      "mean values of training_mean, training_standard_deviation, testing_mean, testing_standard_deviation are given below in respective order :\n",
      "0.9942528687127906\n",
      "0.0011523474836274891\n",
      "0.9804369942621305\n",
      "0.007510425634705662\n"
     ]
    }
   ],
   "source": [
    "print('mean values of training_mean, training_standard_deviation, testing_mean, testing_standard_deviation are given below in respective order :')\n",
    "print(np.mean(train_mean_dt))\n",
    "print(np.mean(train_std_dt))\n",
    "print(np.mean(test_mean_dt))\n",
    "print(np.mean(test_std_dt))\n"
   ]
  },
  {
   "cell_type": "markdown",
   "metadata": {},
   "source": [
    "Learning curve for DT"
   ]
  },
  {
   "cell_type": "code",
   "execution_count": 28,
   "metadata": {},
   "outputs": [
    {
     "data": {
      "image/png": "[encoded data removed]",
      "text/plain": [
       "<Figure size 432x288 with 1 Axes>"
      ]
     },
     "metadata": {
      "needs_background": "light"
     },
     "output_type": "display_data"
    }
   ],
   "source": [
    "import matplotlib.pyplot as plt\n",
    "plt.plot(train_sizes,train_mean_dt,'--',color=\"b\",label=\"Training score\")\n",
    "plt.plot(train_sizes,test_mean_dt,'--',color=\"g\",label=\"Crossvalidation  score\")\n",
    "plt.title('Learning curve for DT')\n",
    "plt.xlabel('Training set size'),plt.ylabel(\"accuracy score\"),plt.legend(loc='best')\n",
    "plt.tight_layout()\n",
    "plt.show()"
   ]
  },
  {
   "cell_type": "markdown",
   "metadata": {},
   "source": [
    "Testing and evaluation"
   ]
  },
  {
   "cell_type": "code",
   "execution_count": 30,
   "metadata": {},
   "outputs": [
    {
     "name": "stdout",
     "output_type": "stream",
     "text": [
      "1.837693214416504\n"
     ]
    }
   ],
   "source": [
    "start = time.time()\n",
    "pipe_dt = pipe_dt.fit(x_train, y_train)\n",
    "y_pred_train = pipe_dt.predict(x_train)\n",
    "y_pred_test = pipe_dt.predict(x_test)\n",
    "end = time.time()\n",
    "print(end-start)\n",
    "time_fit_dt = end - start"
   ]
  },
  {
   "cell_type": "markdown",
   "metadata": {},
   "source": [
    "Accuracy"
   ]
  },
  {
   "cell_type": "code",
   "execution_count": 32,
   "metadata": {},
   "outputs": [],
   "source": [
    "dt_acc_train=accuracy_score(y_train, y_pred_train)"
   ]
  },
  {
   "cell_type": "code",
   "execution_count": 33,
   "metadata": {},
   "outputs": [
    {
     "name": "stdout",
     "output_type": "stream",
     "text": [
      "Training accuracy - Decision Tree : 0.9944229479801084\n"
     ]
    }
   ],
   "source": [
    "print('Training accuracy - Decision Tree :', dt_acc_train)"
   ]
  },
  {
   "cell_type": "code",
   "execution_count": 34,
   "metadata": {},
   "outputs": [],
   "source": [
    "dt_acc_test=accuracy_score(y_test, y_pred_test)"
   ]
  },
  {
   "cell_type": "code",
   "execution_count": 35,
   "metadata": {},
   "outputs": [
    {
     "name": "stdout",
     "output_type": "stream",
     "text": [
      "Testing accuracy - Decision Tree : 0.9943566749081563\n"
     ]
    }
   ],
   "source": [
    "print('Testing accuracy - Decision Tree :', dt_acc_test)"
   ]
  },
  {
   "cell_type": "markdown",
   "metadata": {},
   "source": [
    "Classification_Report"
   ]
  },
  {
   "cell_type": "markdown",
   "metadata": {},
   "source": [
    "Training Classification_Report"
   ]
  },
  {
   "cell_type": "code",
   "execution_count": 37,
   "metadata": {},
   "outputs": [
    {
     "name": "stdout",
     "output_type": "stream",
     "text": [
      "                    precision    recall  f1-score   support\n",
      "\n",
      "            Normal       1.00      0.65      0.79      4602\n",
      "         DoSattack       1.00      1.00      1.00       279\n",
      "              scan       1.00      1.00      1.00       720\n",
      "  malitiousControl       1.00      1.00      1.00       650\n",
      "malitiousOperation       1.00      1.00      1.00      1242\n",
      "            spying       1.00      1.00      1.00       412\n",
      "       dataProbing       1.00      1.00      1.00        94\n",
      "        wrongSetUp       0.99      1.00      1.00    278353\n",
      "\n",
      "          accuracy                           0.99    286352\n",
      "         macro avg       1.00      0.96      0.97    286352\n",
      "      weighted avg       0.99      0.99      0.99    286352\n",
      "\n"
     ]
    }
   ],
   "source": [
    "print(classification_report(y_train, y_pred_train, target_names=target_names))"
   ]
  },
  {
   "cell_type": "markdown",
   "metadata": {},
   "source": [
    "Testing Classification_Report"
   ]
  },
  {
   "cell_type": "code",
   "execution_count": 39,
   "metadata": {},
   "outputs": [
    {
     "name": "stdout",
     "output_type": "stream",
     "text": [
      "                    precision    recall  f1-score   support\n",
      "\n",
      "            Normal       1.00      0.66      0.79      1178\n",
      "         DoSattack       1.00      1.00      1.00        63\n",
      "              scan       1.00      1.00      1.00       169\n",
      "  malitiousControl       1.00      1.00      1.00       155\n",
      "malitiousOperation       1.00      1.00      1.00       305\n",
      "            spying       0.99      1.00      1.00       120\n",
      "       dataProbing       1.00      1.00      1.00        28\n",
      "        wrongSetUp       0.99      1.00      1.00     69571\n",
      "\n",
      "          accuracy                           0.99     71589\n",
      "         macro avg       1.00      0.96      0.97     71589\n",
      "      weighted avg       0.99      0.99      0.99     71589\n",
      "\n"
     ]
    }
   ],
   "source": [
    "print(classification_report(y_test, y_pred_test, target_names=target_names))"
   ]
  },
  {
   "cell_type": "markdown",
   "metadata": {},
   "source": [
    "Confusion Matrix"
   ]
  },
  {
   "cell_type": "code",
   "execution_count": 40,
   "metadata": {},
   "outputs": [
    {
     "data": {
      "text/plain": [
       "array([[  775,     0,     0,     0,     0,     0,     0,   403],\n",
       "       [    0,    63,     0,     0,     0,     0,     0,     0],\n",
       "       [    0,     0,   169,     0,     0,     0,     0,     0],\n",
       "       [    0,     0,     0,   155,     0,     0,     0,     0],\n",
       "       [    0,     0,     0,     0,   305,     0,     0,     0],\n",
       "       [    0,     0,     0,     0,     0,   120,     0,     0],\n",
       "       [    0,     0,     0,     0,     0,     0,    28,     0],\n",
       "       [    0,     0,     0,     0,     0,     1,     0, 69570]],\n",
       "      dtype=int64)"
      ]
     },
     "execution_count": 40,
     "metadata": {},
     "output_type": "execute_result"
    }
   ],
   "source": [
    "cnf_matrix = confusion_matrix(y_test, y_pred_test)\n",
    "cnf_matrix"
   ]
  },
  {
   "cell_type": "markdown",
   "metadata": {},
   "source": [
    "# Random Forest"
   ]
  },
  {
   "cell_type": "markdown",
   "metadata": {},
   "source": [
    "Five-fold cross-validation"
   ]
  },
  {
   "cell_type": "markdown",
   "metadata": {},
   "source": [
    "Training the model"
   ]
  },
  {
   "cell_type": "code",
   "execution_count": 41,
   "metadata": {},
   "outputs": [
    {
     "name": "stdout",
     "output_type": "stream",
     "text": [
      "37.818644523620605\n"
     ]
    }
   ],
   "source": [
    "start=time.time()\n",
    "pipe_rf = Pipeline([('scl', StandardScaler()),('clf', RandomForestClassifier(n_estimators=10))])\n",
    "train_sizes_rf, train_scores_rf, test_scores_rf = learning_curve(estimator=pipe_rf,X=label, y=feature, train_sizes=np.linspace(0.2,1.0,5), cv=5, n_jobs=-1)\n",
    "end=time.time()\n",
    "print(end-start)\n"
   ]
  },
  {
   "cell_type": "code",
   "execution_count": 42,
   "metadata": {},
   "outputs": [],
   "source": [
    "time_l_rf = end-start\n",
    "train_mean_rf= np.mean(train_scores_rf, axis=1)\n",
    "test_mean_rf = np.mean(test_scores_rf, axis=1)"
   ]
  },
  {
   "cell_type": "code",
   "execution_count": 43,
   "metadata": {},
   "outputs": [],
   "source": [
    "train_std_rf = np.std(train_scores_rf, axis=1)\n",
    "test_std_rf = np.std(test_scores_rf, axis=1)"
   ]
  },
  {
   "cell_type": "code",
   "execution_count": 44,
   "metadata": {},
   "outputs": [
    {
     "name": "stdout",
     "output_type": "stream",
     "text": [
      "+-------------+--------------------+--------------------+-----------------------+----------------------+\n",
      "| train_sizes |   train_mean_rf    |    test_mean_rf    |      train_std_rf     |     test_std_rf      |\n",
      "+-------------+--------------------+--------------------+-----------------------+----------------------+\n",
      "|    57270    | 0.9947337174786102 | 0.9552187889760007 | 0.0010384672445031108 | 0.027583902607189476 |\n",
      "|    114540   | 0.9937646237122403 | 0.9724088208249138 | 0.0010535513804165093 | 0.010456683310613665 |\n",
      "|    171811   | 0.9937757186676057 | 0.9774487986990217 | 0.0009204370076839512 | 0.008399190489139799 |\n",
      "|    229081   | 0.9942919753275042 | 0.9851428157965969 | 0.0012108929758517849 | 0.008850630995708007 |\n",
      "|    286352   | 0.9946974353243562 | 0.9898838320101371 | 0.0015379136519052747 | 0.004902508373111283 |\n",
      "+-------------+--------------------+--------------------+-----------------------+----------------------+\n"
     ]
    }
   ],
   "source": [
    "\n",
    "x = PrettyTable()\n",
    "x.field_names = ['train_sizes','train_mean_rf','test_mean_rf','train_std_rf','test_std_rf']\n",
    "\n",
    "for i1,i2,i3,i4,i5 in zip(train_sizes_rf,train_mean_rf,test_mean_rf,train_std_rf,test_std_rf):\n",
    "    x.add_row([i1,i2,i3,i4,i5])\n",
    "print(x)"
   ]
  },
  {
   "cell_type": "code",
   "execution_count": 45,
   "metadata": {},
   "outputs": [
    {
     "name": "stdout",
     "output_type": "stream",
     "text": [
      "mean values of training_mean, training_standard_deviation, testing_mean, testing_standard_deviation are given below in respective order :\n",
      "0.9942526941020633\n",
      "0.0011522524520721261\n",
      "0.9760206112613341\n",
      "0.012038583155152447\n"
     ]
    }
   ],
   "source": [
    "print('mean values of training_mean, training_standard_deviation, testing_mean, testing_standard_deviation are given below in respective order :')\n",
    "print(np.mean(train_mean_rf))\n",
    "print(np.mean(train_std_rf))\n",
    "print(np.mean(test_mean_rf))\n",
    "print(np.mean(test_std_rf))\n"
   ]
  },
  {
   "cell_type": "markdown",
   "metadata": {},
   "source": [
    "Learning curve for RF"
   ]
  },
  {
   "cell_type": "code",
   "execution_count": 47,
   "metadata": {},
   "outputs": [
    {
     "data": {
      "image/png": "[encoded data removed]",
      "text/plain": [
       "<Figure size 432x288 with 1 Axes>"
      ]
     },
     "metadata": {
      "needs_background": "light"
     },
     "output_type": "display_data"
    }
   ],
   "source": [
    "\n",
    "plt.plot(train_sizes,train_mean_rf,'--',color=\"b\",label=\"Training score\")\n",
    "plt.plot(train_sizes,test_mean_rf,'--',color=\"g\",label=\"Crossvalidation  score\")\n",
    "plt.title('Learning curve for RF')\n",
    "plt.xlabel('Training set size'),plt.ylabel(\"accuracy score\"),plt.legend(loc='best')\n",
    "plt.tight_layout()\n",
    "plt.show()"
   ]
  },
  {
   "cell_type": "markdown",
   "metadata": {},
   "source": [
    "Testing and evaluation"
   ]
  },
  {
   "cell_type": "code",
   "execution_count": 48,
   "metadata": {},
   "outputs": [
    {
     "name": "stdout",
     "output_type": "stream",
     "text": [
      "5.842188358306885\n"
     ]
    }
   ],
   "source": [
    "start=time.time()\n",
    "pipe_rf = pipe_rf.fit(x_train, y_train)\n",
    "y_pred_train = pipe_rf.predict(x_train)\n",
    "y_pred_test = pipe_rf.predict(x_test)\n",
    "end = time.time()\n",
    "print(end-start)\n",
    "time_fit_rf = end-start\n"
   ]
  },
  {
   "cell_type": "code",
   "execution_count": 49,
   "metadata": {},
   "outputs": [],
   "source": [
    "y_pred_train = pipe_rf.predict(x_train)\n",
    "y_pred_test = pipe_rf.predict(x_test)"
   ]
  },
  {
   "cell_type": "markdown",
   "metadata": {},
   "source": [
    "Accuracy"
   ]
  },
  {
   "cell_type": "code",
   "execution_count": 50,
   "metadata": {},
   "outputs": [],
   "source": [
    "rf_acc_train=accuracy_score(y_train, y_pred_train)"
   ]
  },
  {
   "cell_type": "code",
   "execution_count": 51,
   "metadata": {},
   "outputs": [
    {
     "name": "stdout",
     "output_type": "stream",
     "text": [
      "Training accuracy - Random Forest : 0.9944229479801084\n"
     ]
    }
   ],
   "source": [
    "print('Training accuracy - Random Forest :', rf_acc_train)"
   ]
  },
  {
   "cell_type": "code",
   "execution_count": 52,
   "metadata": {},
   "outputs": [],
   "source": [
    "rf_acc_test=accuracy_score(y_test, y_pred_test)"
   ]
  },
  {
   "cell_type": "code",
   "execution_count": 53,
   "metadata": {},
   "outputs": [
    {
     "name": "stdout",
     "output_type": "stream",
     "text": [
      "Testing accuracy - Random Forest : 0.9943706435346212\n"
     ]
    }
   ],
   "source": [
    "print('Testing accuracy - Random Forest :', rf_acc_test)"
   ]
  },
  {
   "cell_type": "markdown",
   "metadata": {},
   "source": [
    "Classification_Report"
   ]
  },
  {
   "cell_type": "markdown",
   "metadata": {},
   "source": [
    "Training Classification_Report"
   ]
  },
  {
   "cell_type": "code",
   "execution_count": 54,
   "metadata": {},
   "outputs": [
    {
     "name": "stdout",
     "output_type": "stream",
     "text": [
      "                    precision    recall  f1-score   support\n",
      "\n",
      "            Normal       1.00      0.65      0.79      4602\n",
      "         DoSattack       1.00      1.00      1.00       279\n",
      "              scan       1.00      1.00      1.00       720\n",
      "  malitiousControl       1.00      1.00      1.00       650\n",
      "malitiousOperation       1.00      1.00      1.00      1242\n",
      "            spying       1.00      1.00      1.00       412\n",
      "       dataProbing       1.00      1.00      1.00        94\n",
      "        wrongSetUp       0.99      1.00      1.00    278353\n",
      "\n",
      "          accuracy                           0.99    286352\n",
      "         macro avg       1.00      0.96      0.97    286352\n",
      "      weighted avg       0.99      0.99      0.99    286352\n",
      "\n"
     ]
    }
   ],
   "source": [
    "print(classification_report(y_train, y_pred_train, target_names=target_names))"
   ]
  },
  {
   "cell_type": "markdown",
   "metadata": {},
   "source": [
    "Testing Classification_Report"
   ]
  },
  {
   "cell_type": "code",
   "execution_count": 55,
   "metadata": {},
   "outputs": [
    {
     "name": "stdout",
     "output_type": "stream",
     "text": [
      "                    precision    recall  f1-score   support\n",
      "\n",
      "            Normal       1.00      0.66      0.79      1178\n",
      "         DoSattack       1.00      1.00      1.00        63\n",
      "              scan       1.00      1.00      1.00       169\n",
      "  malitiousControl       1.00      1.00      1.00       155\n",
      "malitiousOperation       1.00      1.00      1.00       305\n",
      "            spying       1.00      1.00      1.00       120\n",
      "       dataProbing       1.00      1.00      1.00        28\n",
      "        wrongSetUp       0.99      1.00      1.00     69571\n",
      "\n",
      "          accuracy                           0.99     71589\n",
      "         macro avg       1.00      0.96      0.97     71589\n",
      "      weighted avg       0.99      0.99      0.99     71589\n",
      "\n"
     ]
    }
   ],
   "source": [
    "print(classification_report(y_test, y_pred_test, target_names=target_names))"
   ]
  },
  {
   "cell_type": "markdown",
   "metadata": {},
   "source": [
    "Confusion matrix"
   ]
  },
  {
   "cell_type": "code",
   "execution_count": 57,
   "metadata": {},
   "outputs": [
    {
     "name": "stdout",
     "output_type": "stream",
     "text": [
      "[[  775     0     0     0     0     0     0   403]\n",
      " [    0    63     0     0     0     0     0     0]\n",
      " [    0     0   169     0     0     0     0     0]\n",
      " [    0     0     0   155     0     0     0     0]\n",
      " [    0     0     0     0   305     0     0     0]\n",
      " [    0     0     0     0     0   120     0     0]\n",
      " [    0     0     0     0     0     0    28     0]\n",
      " [    0     0     0     0     0     0     0 69571]]\n"
     ]
    }
   ],
   "source": [
    "cnf_matrix = confusion_matrix(y_test, y_pred_test)\n",
    "print(cnf_matrix)"
   ]
  },
  {
   "cell_type": "markdown",
   "metadata": {},
   "source": [
    "# Artificial neural network (ANN)"
   ]
  },
  {
   "cell_type": "markdown",
   "metadata": {},
   "source": [
    "Five-fold cross-validation"
   ]
  },
  {
   "cell_type": "markdown",
   "metadata": {},
   "source": [
    "Training the model"
   ]
  },
  {
   "cell_type": "code",
   "execution_count": 58,
   "metadata": {},
   "outputs": [],
   "source": [
    "mlp = MLPClassifier(hidden_layer_sizes=(50,), max_iter=10, alpha=1e-4, solver='sgd', verbose=10, tol=1e-4, random_state=1, learning_rate_init=.1)"
   ]
  },
  {
   "cell_type": "code",
   "execution_count": 59,
   "metadata": {},
   "outputs": [
    {
     "name": "stdout",
     "output_type": "stream",
     "text": [
      "90.91809511184692\n"
     ]
    }
   ],
   "source": [
    "start = time.time()\n",
    "pipe_ann = Pipeline([('scl', StandardScaler()),('clf', mlp)])\n",
    "train_sizes_ann, train_scores_ann, test_scores_ann = learning_curve(estimator=pipe_ann,X=label, y=feature, train_sizes=np.linspace(0.2,1.0,5), cv=5, n_jobs=-1)\n",
    "end = time.time()\n",
    "print(end-start)"
   ]
  },
  {
   "cell_type": "code",
   "execution_count": 60,
   "metadata": {},
   "outputs": [],
   "source": [
    "time_l_ann = end-start\n",
    "train_mean_ann = np.mean(train_scores_ann, axis=1)\n",
    "test_mean_ann = np.mean(test_scores_ann, axis=1)"
   ]
  },
  {
   "cell_type": "code",
   "execution_count": 61,
   "metadata": {},
   "outputs": [],
   "source": [
    "train_std_ann = np.std(train_scores_ann, axis=1)\n",
    "test_std_ann = np.std(test_scores_ann, axis=1)"
   ]
  },
  {
   "cell_type": "code",
   "execution_count": 62,
   "metadata": {},
   "outputs": [
    {
     "name": "stdout",
     "output_type": "stream",
     "text": [
      "+-------------+--------------------+--------------------+-----------------------+----------------------+\n",
      "| train_sizes |   train_mean_ann   |   test_mean_ann    |     train_std_ann     |     test_std_ann     |\n",
      "+-------------+--------------------+--------------------+-----------------------+----------------------+\n",
      "|    57270    | 0.985353588266108  | 0.9528469025434829 |  0.002769349231984825 | 0.020532359545230076 |\n",
      "|    114540   | 0.9879762528374367 | 0.9452255209766735 |  0.002352337574852267 | 0.02541313694281631  |\n",
      "|    171811   | 0.9901286879187013 | 0.9763201178364824 | 0.0033929690035031457 | 0.010673125121859823 |\n",
      "|    229081   | 0.9915165378185009 | 0.9846483197074287 |  0.00350279803299699  | 0.005058990467425109 |\n",
      "|    286352   | 0.9943300553165335 | 0.9934989629206085 | 0.0017521499462828801 | 0.007563520706623487 |\n",
      "+-------------+--------------------+--------------------+-----------------------+----------------------+\n"
     ]
    }
   ],
   "source": [
    "\n",
    "x = PrettyTable()\n",
    "x.field_names = ['train_sizes','train_mean_ann','test_mean_ann','train_std_ann','test_std_ann']\n",
    "\n",
    "for i1,i2,i3,i4,i5 in zip(train_sizes_ann,train_mean_ann,test_mean_ann,train_std_ann,test_std_ann):\n",
    "    x.add_row([i1,i2,i3,i4,i5])\n",
    "print(x)"
   ]
  },
  {
   "cell_type": "code",
   "execution_count": 63,
   "metadata": {},
   "outputs": [
    {
     "name": "stdout",
     "output_type": "stream",
     "text": [
      "mean values of training_mean, training_standard_deviation, testing_mean, testing_standard_deviation are given below in respective order :\n",
      "0.9898610244314561\n",
      "0.0027539207579240217\n",
      "0.9705079647969352\n",
      "0.01384822655679096\n"
     ]
    }
   ],
   "source": [
    "print('mean values of training_mean, training_standard_deviation, testing_mean, testing_standard_deviation are given below in respective order :')\n",
    "print(np.mean(train_mean_ann))\n",
    "print(np.mean(train_std_ann))\n",
    "print(np.mean(test_mean_ann))\n",
    "print(np.mean(test_std_ann))\n"
   ]
  },
  {
   "cell_type": "markdown",
   "metadata": {},
   "source": [
    "Learning curve for ANN"
   ]
  },
  {
   "cell_type": "code",
   "execution_count": 65,
   "metadata": {},
   "outputs": [
    {
     "data": {
      "image/png": "[encoded data removed]",
      "text/plain": [
       "<Figure size 432x288 with 1 Axes>"
      ]
     },
     "metadata": {
      "needs_background": "light"
     },
     "output_type": "display_data"
    }
   ],
   "source": [
    "\n",
    "plt.plot(train_sizes,train_mean_ann,'--',color=\"b\",label=\"Training score\")\n",
    "plt.plot(train_sizes,test_mean_ann,'--',color=\"g\",label=\"Crossvalidation  score\")\n",
    "plt.title('Learning curve for RF')\n",
    "plt.xlabel('Training set size'),plt.ylabel(\"accuracy score\"),plt.legend(loc='best')\n",
    "plt.tight_layout()\n",
    "plt.show()"
   ]
  },
  {
   "cell_type": "markdown",
   "metadata": {},
   "source": [
    "Testing and evaluation"
   ]
  },
  {
   "cell_type": "code",
   "execution_count": 67,
   "metadata": {},
   "outputs": [
    {
     "name": "stdout",
     "output_type": "stream",
     "text": [
      "Iteration 1, loss = 0.05163256\n",
      "Iteration 2, loss = 0.02227365\n",
      "Iteration 3, loss = 0.01709014\n",
      "Iteration 4, loss = 0.01532342\n",
      "Iteration 5, loss = 0.01385408\n",
      "Iteration 6, loss = 0.01350023\n",
      "Iteration 7, loss = 0.01303035\n",
      "Iteration 8, loss = 0.01266507\n",
      "Iteration 9, loss = 0.01233092\n",
      "Iteration 10, loss = 0.01223970\n"
     ]
    },
    {
     "name": "stderr",
     "output_type": "stream",
     "text": [
      "C:\\Users\\srira\\Anaconda3\\lib\\site-packages\\sklearn\\neural_network\\_multilayer_perceptron.py:617: ConvergenceWarning: Stochastic Optimizer: Maximum iterations (10) reached and the optimization hasn't converged yet.\n",
      "  % self.max_iter, ConvergenceWarning)\n"
     ]
    },
    {
     "name": "stdout",
     "output_type": "stream",
     "text": [
      "18.29126238822937\n"
     ]
    }
   ],
   "source": [
    "start = time.time()\n",
    "pipe_ann = pipe_ann.fit(x_train, y_train)\n",
    "y_pred_train = pipe_ann.predict(x_train)\n",
    "y_pred_test = pipe_ann.predict(x_test)\n",
    "end = time.time()\n",
    "print(end - start)\n",
    "time_fit_ann = end-start"
   ]
  },
  {
   "cell_type": "markdown",
   "metadata": {},
   "source": [
    "Accuracy"
   ]
  },
  {
   "cell_type": "code",
   "execution_count": 68,
   "metadata": {},
   "outputs": [],
   "source": [
    "\n",
    "ann_acc_train=accuracy_score(y_train, y_pred_train)"
   ]
  },
  {
   "cell_type": "code",
   "execution_count": 69,
   "metadata": {},
   "outputs": [
    {
     "name": "stdout",
     "output_type": "stream",
     "text": [
      "Training accuracy - Artificial Neural Network : 0.9943042129965916\n"
     ]
    }
   ],
   "source": [
    "print('Training accuracy - Artificial Neural Network :', ann_acc_train)"
   ]
  },
  {
   "cell_type": "code",
   "execution_count": 70,
   "metadata": {},
   "outputs": [],
   "source": [
    "ann_acc_test=accuracy_score(y_test, y_pred_test)"
   ]
  },
  {
   "cell_type": "code",
   "execution_count": 71,
   "metadata": {},
   "outputs": [
    {
     "name": "stdout",
     "output_type": "stream",
     "text": [
      "Testing accuracy - Artificial Neural Network : 0.9942588945229016\n"
     ]
    }
   ],
   "source": [
    "print('Testing accuracy - Artificial Neural Network :', ann_acc_test)"
   ]
  },
  {
   "cell_type": "markdown",
   "metadata": {},
   "source": [
    "Classification_Report"
   ]
  },
  {
   "cell_type": "markdown",
   "metadata": {},
   "source": [
    "Training Classification_Report"
   ]
  },
  {
   "cell_type": "code",
   "execution_count": 72,
   "metadata": {},
   "outputs": [
    {
     "name": "stdout",
     "output_type": "stream",
     "text": [
      "                    precision    recall  f1-score   support\n",
      "\n",
      "            Normal       0.99      0.65      0.79      4602\n",
      "         DoSattack       1.00      1.00      1.00       279\n",
      "              scan       1.00      1.00      1.00       720\n",
      "  malitiousControl       1.00      1.00      1.00       650\n",
      "malitiousOperation       1.00      0.99      0.99      1242\n",
      "            spying       1.00      1.00      1.00       412\n",
      "       dataProbing       1.00      1.00      1.00        94\n",
      "        wrongSetUp       0.99      1.00      1.00    278353\n",
      "\n",
      "          accuracy                           0.99    286352\n",
      "         macro avg       1.00      0.96      0.97    286352\n",
      "      weighted avg       0.99      0.99      0.99    286352\n",
      "\n"
     ]
    }
   ],
   "source": [
    "print(classification_report(y_train, y_pred_train, target_names=target_names))"
   ]
  },
  {
   "cell_type": "markdown",
   "metadata": {},
   "source": [
    "Testing Classification_Report"
   ]
  },
  {
   "cell_type": "code",
   "execution_count": 74,
   "metadata": {},
   "outputs": [
    {
     "name": "stdout",
     "output_type": "stream",
     "text": [
      "                    precision    recall  f1-score   support\n",
      "\n",
      "            Normal       1.00      0.66      0.79      1178\n",
      "         DoSattack       1.00      1.00      1.00        63\n",
      "              scan       0.99      1.00      1.00       169\n",
      "  malitiousControl       1.00      1.00      1.00       155\n",
      "malitiousOperation       1.00      0.99      0.99       305\n",
      "            spying       0.98      1.00      0.99       120\n",
      "       dataProbing       1.00      1.00      1.00        28\n",
      "        wrongSetUp       0.99      1.00      1.00     69571\n",
      "\n",
      "          accuracy                           0.99     71589\n",
      "         macro avg       1.00      0.96      0.97     71589\n",
      "      weighted avg       0.99      0.99      0.99     71589\n",
      "\n"
     ]
    }
   ],
   "source": [
    "print(classification_report(y_test, y_pred_test, target_names=target_names))"
   ]
  },
  {
   "cell_type": "markdown",
   "metadata": {},
   "source": [
    "Confusion matrix"
   ]
  },
  {
   "cell_type": "code",
   "execution_count": 76,
   "metadata": {},
   "outputs": [
    {
     "name": "stdout",
     "output_type": "stream",
     "text": [
      "[[  775     0     0     0     0     0     0   403]\n",
      " [    0    63     0     0     0     0     0     0]\n",
      " [    0     0   169     0     0     0     0     0]\n",
      " [    0     0     0   155     0     0     0     0]\n",
      " [    0     0     0     0   301     0     0     4]\n",
      " [    0     0     0     0     0   120     0     0]\n",
      " [    0     0     0     0     0     0    28     0]\n",
      " [    1     0     1     0     0     2     0 69567]]\n"
     ]
    }
   ],
   "source": [
    "cnf_matrix = confusion_matrix(y_test, y_pred_test)\n",
    "print(cnf_matrix)"
   ]
  },
  {
   "cell_type": "markdown",
   "metadata": {},
   "source": [
    "# Support vector machine (SVM)"
   ]
  },
  {
   "cell_type": "markdown",
   "metadata": {},
   "source": [
    "Five-fold cross-validation"
   ]
  },
  {
   "cell_type": "markdown",
   "metadata": {},
   "source": [
    "Training the model"
   ]
  },
  {
   "cell_type": "code",
   "execution_count": 77,
   "metadata": {},
   "outputs": [
    {
     "name": "stdout",
     "output_type": "stream",
     "text": [
      "480.98824667930603\n"
     ]
    }
   ],
   "source": [
    "start = time.time()\n",
    "pipe_svm = Pipeline([('scl', StandardScaler()),('clf', LinearSVC())])\n",
    "train_sizes_svm, train_scores_svm, test_scores_svm = learning_curve(estimator=pipe_svm,X=label, y=feature, train_sizes=np.linspace(0.2,1.0,5), cv=5, n_jobs=-1)\n",
    "end = time.time()\n",
    "print(end-start)"
   ]
  },
  {
   "cell_type": "code",
   "execution_count": 78,
   "metadata": {},
   "outputs": [],
   "source": [
    "time_l_svm = end-start\n",
    "train_mean_svm = np.mean(train_scores_svm, axis=1)\n",
    "test_mean_svm = np.mean(test_scores_svm, axis=1)"
   ]
  },
  {
   "cell_type": "code",
   "execution_count": 79,
   "metadata": {},
   "outputs": [],
   "source": [
    "train_std_svm = np.std(train_scores_svm, axis=1)\n",
    "test_std_svm = np.std(test_scores_svm, axis=1)"
   ]
  },
  {
   "cell_type": "code",
   "execution_count": 80,
   "metadata": {},
   "outputs": [
    {
     "name": "stdout",
     "output_type": "stream",
     "text": [
      "+-------------+--------------------+--------------------+-----------------------+-----------------------+\n",
      "| train_sizes |   train_mean_svm   |   test_mean_svm    |     train_std_svm     |      test_std_svm     |\n",
      "+-------------+--------------------+--------------------+-----------------------+-----------------------+\n",
      "|    57270    | 0.9829753797799894 | 0.9716266019384072 | 0.0027706172370032876 |  0.006805073063544585 |\n",
      "|    114540   | 0.9816710319539025 | 0.9556630347324673 | 0.0034054057585487392 |  0.01812267073928982  |\n",
      "|    171811   | 0.9853408687453074 | 0.9771191462560326 |  0.002951752849657848 | 0.0067727183738130105 |\n",
      "|    229081   | 0.9822630423300055 | 0.9795357562155941 | 0.0030207900564154407 |  0.007600406921434045 |\n",
      "|    286352   | 0.9831438229870928 | 0.9826256595123237 | 0.0017662018598379962 |  0.007245295366916275 |\n",
      "+-------------+--------------------+--------------------+-----------------------+-----------------------+\n"
     ]
    }
   ],
   "source": [
    "\n",
    "x = PrettyTable()\n",
    "x.field_names = ['train_sizes','train_mean_svm','test_mean_svm','train_std_svm','test_std_svm']\n",
    "\n",
    "for i1,i2,i3,i4,i5 in zip(train_sizes_svm,train_mean_svm,test_mean_svm,train_std_svm,test_std_svm):\n",
    "    x.add_row([i1,i2,i3,i4,i5])\n",
    "print(x)"
   ]
  },
  {
   "cell_type": "code",
   "execution_count": 81,
   "metadata": {
    "scrolled": true
   },
   "outputs": [
    {
     "name": "stdout",
     "output_type": "stream",
     "text": [
      "mean values of training_mean, training_standard_deviation, testing_mean, testing_standard_deviation are given below in respective order :\n",
      "0.9830788291592594\n",
      "0.0027829535522926625\n",
      "0.9733140397309649\n",
      "0.009309232892999546\n"
     ]
    }
   ],
   "source": [
    "print('mean values of training_mean, training_standard_deviation, testing_mean, testing_standard_deviation are given below in respective order :')\n",
    "print(np.mean(train_mean_svm))\n",
    "print(np.mean(train_std_svm))\n",
    "print(np.mean(test_mean_svm))\n",
    "print(np.mean(test_std_svm))"
   ]
  },
  {
   "cell_type": "markdown",
   "metadata": {},
   "source": [
    "Learning curve for SVM"
   ]
  },
  {
   "cell_type": "code",
   "execution_count": 82,
   "metadata": {},
   "outputs": [
    {
     "data": {
      "image/png": "[encoded data removed]",
      "text/plain": [
       "<Figure size 432x288 with 1 Axes>"
      ]
     },
     "metadata": {
      "needs_background": "light"
     },
     "output_type": "display_data"
    }
   ],
   "source": [
    "\n",
    "plt.plot(train_sizes,train_mean_svm,'--',color=\"b\",label=\"Training score\")\n",
    "plt.plot(train_sizes,test_mean_svm,'--',color=\"g\",label=\"Crossvalidation  score\")\n",
    "plt.title('Learning curve for SVM')\n",
    "plt.xlabel('Training set size'),plt.ylabel(\"accuracy score\"),plt.legend(loc='best')\n",
    "plt.tight_layout()\n",
    "plt.show()"
   ]
  },
  {
   "cell_type": "markdown",
   "metadata": {},
   "source": [
    "Testing and evaluation"
   ]
  },
  {
   "cell_type": "code",
   "execution_count": 83,
   "metadata": {},
   "outputs": [
    {
     "name": "stdout",
     "output_type": "stream",
     "text": [
      "70.38485550880432\n"
     ]
    }
   ],
   "source": [
    "start = time.time()\n",
    "pipe_svm = pipe_svm.fit(x_train, y_train)\n",
    "y_pred_train = pipe_svm.predict(x_train)\n",
    "y_pred_test = pipe_svm.predict(x_test)\n",
    "end = time.time()\n",
    "print(end-start)\n",
    "time_fit_svm = end-start"
   ]
  },
  {
   "cell_type": "markdown",
   "metadata": {},
   "source": [
    "Accuracy"
   ]
  },
  {
   "cell_type": "code",
   "execution_count": 84,
   "metadata": {},
   "outputs": [],
   "source": [
    "\n",
    "svm_acc_train=accuracy_score(y_train, y_pred_train)"
   ]
  },
  {
   "cell_type": "code",
   "execution_count": 87,
   "metadata": {},
   "outputs": [
    {
     "name": "stdout",
     "output_type": "stream",
     "text": [
      "Training accuracy - Support vector machine : 0.9826821534335364\n"
     ]
    }
   ],
   "source": [
    "print('Training accuracy - Support vector machine :', svm_acc_train)"
   ]
  },
  {
   "cell_type": "code",
   "execution_count": 88,
   "metadata": {},
   "outputs": [],
   "source": [
    "svm_acc_test=accuracy_score(y_test, y_pred_test)"
   ]
  },
  {
   "cell_type": "code",
   "execution_count": 89,
   "metadata": {},
   "outputs": [
    {
     "name": "stdout",
     "output_type": "stream",
     "text": [
      "Testing accuracy - Support vector machine : 0.9827627149422398\n"
     ]
    }
   ],
   "source": [
    "print('Testing accuracy - Support vector machine :', svm_acc_test)"
   ]
  },
  {
   "cell_type": "markdown",
   "metadata": {},
   "source": [
    "Classification_Report"
   ]
  },
  {
   "cell_type": "markdown",
   "metadata": {},
   "source": [
    "Training Classification_Report"
   ]
  },
  {
   "cell_type": "code",
   "execution_count": 90,
   "metadata": {},
   "outputs": [
    {
     "name": "stderr",
     "output_type": "stream",
     "text": [
      "C:\\Users\\srira\\Anaconda3\\lib\\site-packages\\sklearn\\metrics\\_classification.py:1245: UndefinedMetricWarning: Precision and F-score are ill-defined and being set to 0.0 in labels with no predicted samples. Use `zero_division` parameter to control this behavior.\n",
      "  _warn_prf(average, modifier, msg_start, len(result))\n"
     ]
    },
    {
     "name": "stdout",
     "output_type": "stream",
     "text": [
      "                    precision    recall  f1-score   support\n",
      "\n",
      "            Normal       0.97      0.65      0.78      4602\n",
      "         DoSattack       0.00      0.00      0.00       279\n",
      "              scan       0.78      0.04      0.07       720\n",
      "  malitiousControl       1.00      0.16      0.27       650\n",
      "malitiousOperation       0.00      0.00      0.00      1242\n",
      "            spying       0.00      0.00      0.00       412\n",
      "       dataProbing       0.00      0.00      0.00        94\n",
      "        wrongSetUp       0.98      1.00      0.99    278353\n",
      "\n",
      "          accuracy                           0.98    286352\n",
      "         macro avg       0.47      0.23      0.26    286352\n",
      "      weighted avg       0.98      0.98      0.98    286352\n",
      "\n"
     ]
    },
    {
     "name": "stderr",
     "output_type": "stream",
     "text": [
      "C:\\Users\\srira\\Anaconda3\\lib\\site-packages\\sklearn\\metrics\\_classification.py:1245: UndefinedMetricWarning: Precision and F-score are ill-defined and being set to 0.0 in labels with no predicted samples. Use `zero_division` parameter to control this behavior.\n",
      "  _warn_prf(average, modifier, msg_start, len(result))\n",
      "C:\\Users\\srira\\Anaconda3\\lib\\site-packages\\sklearn\\metrics\\_classification.py:1245: UndefinedMetricWarning: Precision and F-score are ill-defined and being set to 0.0 in labels with no predicted samples. Use `zero_division` parameter to control this behavior.\n",
      "  _warn_prf(average, modifier, msg_start, len(result))\n"
     ]
    }
   ],
   "source": [
    "print(classification_report(y_train, y_pred_train, target_names=target_names))"
   ]
  },
  {
   "cell_type": "markdown",
   "metadata": {},
   "source": [
    "Testing Classification_Report"
   ]
  },
  {
   "cell_type": "code",
   "execution_count": 92,
   "metadata": {},
   "outputs": [
    {
     "name": "stdout",
     "output_type": "stream",
     "text": [
      "                    precision    recall  f1-score   support\n",
      "\n",
      "            Normal       0.97      0.66      0.78      1178\n",
      "         DoSattack       0.00      0.00      0.00        63\n",
      "              scan       0.83      0.06      0.11       169\n",
      "  malitiousControl       1.00      0.21      0.35       155\n",
      "malitiousOperation       0.00      0.00      0.00       305\n",
      "            spying       0.00      0.00      0.00       120\n",
      "       dataProbing       0.00      0.00      0.00        28\n",
      "        wrongSetUp       0.98      1.00      0.99     69571\n",
      "\n",
      "          accuracy                           0.98     71589\n",
      "         macro avg       0.47      0.24      0.28     71589\n",
      "      weighted avg       0.98      0.98      0.98     71589\n",
      "\n"
     ]
    },
    {
     "name": "stderr",
     "output_type": "stream",
     "text": [
      "C:\\Users\\srira\\Anaconda3\\lib\\site-packages\\sklearn\\metrics\\_classification.py:1245: UndefinedMetricWarning: Precision and F-score are ill-defined and being set to 0.0 in labels with no predicted samples. Use `zero_division` parameter to control this behavior.\n",
      "  _warn_prf(average, modifier, msg_start, len(result))\n",
      "C:\\Users\\srira\\Anaconda3\\lib\\site-packages\\sklearn\\metrics\\_classification.py:1245: UndefinedMetricWarning: Precision and F-score are ill-defined and being set to 0.0 in labels with no predicted samples. Use `zero_division` parameter to control this behavior.\n",
      "  _warn_prf(average, modifier, msg_start, len(result))\n",
      "C:\\Users\\srira\\Anaconda3\\lib\\site-packages\\sklearn\\metrics\\_classification.py:1245: UndefinedMetricWarning: Precision and F-score are ill-defined and being set to 0.0 in labels with no predicted samples. Use `zero_division` parameter to control this behavior.\n",
      "  _warn_prf(average, modifier, msg_start, len(result))\n"
     ]
    }
   ],
   "source": [
    "print(classification_report(y_test, y_pred_test, target_names=target_names))"
   ]
  },
  {
   "cell_type": "markdown",
   "metadata": {},
   "source": [
    "Confusion matrix"
   ]
  },
  {
   "cell_type": "code",
   "execution_count": 93,
   "metadata": {},
   "outputs": [
    {
     "data": {
      "text/plain": [
       "array([[  775,     0,     0,     0,     0,     0,     0,   403],\n",
       "       [    0,     0,     0,     0,     0,     0,     0,    63],\n",
       "       [    0,     0,    10,     0,     0,     0,     0,   159],\n",
       "       [    0,     0,     0,    33,     0,     0,     0,   122],\n",
       "       [    0,     0,     2,     0,     0,     0,     0,   303],\n",
       "       [    0,     0,     0,     0,     0,     0,     0,   120],\n",
       "       [    0,     0,     0,     0,     0,     0,     0,    28],\n",
       "       [   27,     0,     0,     0,     0,     7,     0, 69537]],\n",
       "      dtype=int64)"
      ]
     },
     "execution_count": 93,
     "metadata": {},
     "output_type": "execute_result"
    }
   ],
   "source": [
    "cnf_matrix = confusion_matrix(y_test, y_pred_test)\n",
    "cnf_matrix"
   ]
  },
  {
   "cell_type": "markdown",
   "metadata": {},
   "source": [
    "# Comparing the various machine learning algorithms"
   ]
  },
  {
   "cell_type": "markdown",
   "metadata": {},
   "source": [
    "1.Comparing the accuracy"
   ]
  },
  {
   "cell_type": "markdown",
   "metadata": {},
   "source": [
    "(i)Training Accuracy"
   ]
  },
  {
   "cell_type": "code",
   "execution_count": 110,
   "metadata": {},
   "outputs": [
    {
     "name": "stdout",
     "output_type": "stream",
     "text": [
      "+----------+--------------------+--------------------+--------------------+--------------------+--------------------+\n",
      "| Training |         LR         |         DT         |         RF         |        ANN         |        SVM         |\n",
      "+----------+--------------------+--------------------+--------------------+--------------------+--------------------+\n",
      "| Accuracy | 0.9876899759736268 | 0.9944229479801084 | 0.9944229479801084 | 0.9943042129965916 | 0.9826821534335364 |\n",
      "+----------+--------------------+--------------------+--------------------+--------------------+--------------------+\n"
     ]
    }
   ],
   "source": [
    "from prettytable import PrettyTable\n",
    "    \n",
    "x = PrettyTable()\n",
    "\n",
    "x.field_names = ['Training','LR', 'DT', 'RF', 'ANN', 'SVM']\n",
    "x.add_row(['Accuracy',lr_acc_train,dt_acc_train,rf_acc_train,ann_acc_train,svm_acc_train])\n",
    "print(x)"
   ]
  },
  {
   "cell_type": "code",
   "execution_count": 109,
   "metadata": {
    "scrolled": true
   },
   "outputs": [
    {
     "data": {
      "image/png": "[encoded data removed]",
      "text/plain": [
       "<Figure size 720x360 with 1 Axes>"
      ]
     },
     "metadata": {},
     "output_type": "display_data"
    }
   ],
   "source": [
    "import seaborn as sns\n",
    "fig = plt.figure(figsize = (10, 5)) \n",
    "sns.set_style('darkgrid')\n",
    "\n",
    "x = ['LR', 'DT', 'RF', 'ANN', 'SVM']\n",
    "y = [lr_acc_train,dt_acc_train,rf_acc_train,ann_acc_train,svm_acc_train]\n",
    "\n",
    "plt.title('ML algo vs Training Accuracy')\n",
    "sns.despine(left=True);\n",
    "ax = sns.barplot( x,y)\n",
    "ax.set(xlabel='Machine Learning algorithms',ylabel='Training Accuracy')\n",
    "plt.show()"
   ]
  },
  {
   "cell_type": "markdown",
   "metadata": {},
   "source": [
    "(ii)Testing Accuracy"
   ]
  },
  {
   "cell_type": "code",
   "execution_count": 101,
   "metadata": {
    "scrolled": true
   },
   "outputs": [
    {
     "name": "stdout",
     "output_type": "stream",
     "text": [
      "+----------+--------------------+--------------------+--------------------+--------------------+--------------------+\n",
      "| Testing  |         LR         |         DT         |         RF         |        ANN         |        SVM         |\n",
      "+----------+--------------------+--------------------+--------------------+--------------------+--------------------+\n",
      "| Accuracy | 0.9874701420609312 | 0.9943566749081563 | 0.9943706435346212 | 0.9942588945229016 | 0.9827627149422398 |\n",
      "+----------+--------------------+--------------------+--------------------+--------------------+--------------------+\n"
     ]
    }
   ],
   "source": [
    "   \n",
    "x = PrettyTable()\n",
    "\n",
    "x.field_names = ['Testing','LR', 'DT', 'RF', 'ANN', 'SVM']\n",
    "x.add_row(['Accuracy',lr_acc_test,dt_acc_test,rf_acc_test,ann_acc_test,svm_acc_test])\n",
    "print(x)"
   ]
  },
  {
   "cell_type": "code",
   "execution_count": 100,
   "metadata": {
    "scrolled": true
   },
   "outputs": [
    {
     "data": {
      "image/png": "[encoded data removed]",
      "text/plain": [
       "<Figure size 720x360 with 1 Axes>"
      ]
     },
     "metadata": {},
     "output_type": "display_data"
    }
   ],
   "source": [
    "fig = plt.figure(figsize = (10, 5)) \n",
    "sns.set_style('darkgrid')\n",
    "\n",
    "x = ['LR', 'DT', 'RF', 'ANN', 'SVM']\n",
    "y = [lr_acc_test,dt_acc_test,rf_acc_test,ann_acc_test,svm_acc_test]\n",
    "sns.despine(left=True);\n",
    "ax = sns.barplot(x,y)\n",
    "plt.title('ML algo vs Testing Accuracy')\n",
    "ax.set(xlabel='Machine Learning algorithms',ylabel='Testing Accuracy')\n",
    "plt.show()"
   ]
  },
  {
   "cell_type": "markdown",
   "metadata": {},
   "source": [
    "2.Comparing the Time taken"
   ]
  },
  {
   "cell_type": "code",
   "execution_count": null,
   "metadata": {},
   "outputs": [],
   "source": [
    "(i)Training Time"
   ]
  },
  {
   "cell_type": "code",
   "execution_count": 103,
   "metadata": {
    "scrolled": true
   },
   "outputs": [
    {
     "name": "stdout",
     "output_type": "stream",
     "text": [
      "+----------------+--------------------+--------------------+--------------------+-------------------+--------------------+\n",
      "|    Training    |         LR         |         DT         |         RF         |        ANN        |        SVM         |\n",
      "+----------------+--------------------+--------------------+--------------------+-------------------+--------------------+\n",
      "| Time taken (s) | 146.93165516853333 | 14.923732042312622 | 37.818644523620605 | 90.91809511184692 | 480.98824667930603 |\n",
      "+----------------+--------------------+--------------------+--------------------+-------------------+--------------------+\n"
     ]
    }
   ],
   "source": [
    "x = PrettyTable()\n",
    "\n",
    "x.field_names = ['Training','LR', 'DT', 'RF', 'ANN', 'SVM']\n",
    "x.add_row(['Time taken (s)',time_l_lr,time_l_dt,time_l_rf,time_l_ann,time_l_svm])\n",
    "print(x)"
   ]
  },
  {
   "cell_type": "code",
   "execution_count": 111,
   "metadata": {
    "scrolled": true
   },
   "outputs": [
    {
     "data": {
      "image/png": "[encoded data removed]",
      "text/plain": [
       "<Figure size 720x360 with 1 Axes>"
      ]
     },
     "metadata": {},
     "output_type": "display_data"
    }
   ],
   "source": [
    "fig = plt.figure(figsize = (10, 5)) \n",
    "sns.set_style('darkgrid')\n",
    "\n",
    "x = ['LR', 'DT', 'RF', 'ANN', 'SVM']\n",
    "y = [time_l_lr,time_l_dt,time_l_rf,time_l_ann,time_l_svm]\n",
    "sns.despine(left=True);\n",
    "ax = sns.barplot( x, y)\n",
    "plt.title('Time taken to train')\n",
    "ax.set(xlabel='Machine Learning algorithms',ylabel='Train time(s)')\n",
    "plt.show()"
   ]
  },
  {
   "cell_type": "code",
   "execution_count": null,
   "metadata": {},
   "outputs": [],
   "source": [
    "(ii)Testing Time"
   ]
  },
  {
   "cell_type": "code",
   "execution_count": 106,
   "metadata": {},
   "outputs": [
    {
     "name": "stdout",
     "output_type": "stream",
     "text": [
      "+----------------+--------------------+-------------------+-------------------+-------------------+-------------------+\n",
      "|    Testing     |         LR         |         DT        |         RF        |        ANN        |        SVM        |\n",
      "+----------------+--------------------+-------------------+-------------------+-------------------+-------------------+\n",
      "| Time taken (s) | 21.445029973983765 | 1.837693214416504 | 5.842188358306885 | 18.29126238822937 | 70.38485550880432 |\n",
      "+----------------+--------------------+-------------------+-------------------+-------------------+-------------------+\n"
     ]
    }
   ],
   "source": [
    "x = PrettyTable()\n",
    "\n",
    "x.field_names = ['Testing','LR', 'DT', 'RF', 'ANN', 'SVM']\n",
    "x.add_row(['Time taken (s)',time_fit_lr,time_fit_dt,time_fit_rf,time_fit_ann,time_fit_svm])\n",
    "print(x)"
   ]
  },
  {
   "cell_type": "code",
   "execution_count": 107,
   "metadata": {},
   "outputs": [
    {
     "data": {
      "image/png": "[encoded data removed]",
      "text/plain": [
       "<Figure size 720x360 with 1 Axes>"
      ]
     },
     "metadata": {},
     "output_type": "display_data"
    }
   ],
   "source": [
    "fig = plt.figure(figsize = (10, 5)) \n",
    "sns.set_style('darkgrid')\n",
    "\n",
    "x = ['LR', 'DT', 'RF', 'ANN', 'SVM']\n",
    "y = [time_fit_lr,time_fit_dt,time_fit_rf,time_fit_ann,time_fit_svm]\n",
    "plt.title('Time taken to test')\n",
    "sns.despine(left=True);\n",
    "ax = sns.barplot(x,y)\n",
    "ax.set(xlabel='Machine Learning algorithms',ylabel='Testing time(s)')\n",
    "plt.show()"
   ]
  },
  {
   "cell_type": "markdown",
   "metadata": {},
   "source": [
    " 3.Ranking ML algorithms"
   ]
  },
  {
   "cell_type": "code",
   "execution_count": 156,
   "metadata": {},
   "outputs": [],
   "source": [
    "def Sort(sub_li): \n",
    "    return(sorted(sub_li, key = lambda x: x[1], reverse = True))     "
   ]
  },
  {
   "cell_type": "code",
   "execution_count": 157,
   "metadata": {},
   "outputs": [],
   "source": [
    "def Sorti(sub_li): \n",
    "    return(sorted(sub_li, key = lambda x: x[1]))   "
   ]
  },
  {
   "cell_type": "code",
   "execution_count": 170,
   "metadata": {},
   "outputs": [],
   "source": [
    "l=list([['LR',lr_acc_train],['DT',dt_acc_train],['RF',rf_acc_train],['ANN',ann_acc_train],['SVM',svm_acc_train]])"
   ]
  },
  {
   "cell_type": "code",
   "execution_count": 171,
   "metadata": {},
   "outputs": [
    {
     "name": "stdout",
     "output_type": "stream",
     "text": [
      "Based on training accuracy most preferred algorithm (arranged from most to least accurate):\n",
      "+------+--------------+\n",
      "| Rank | ML algorithm |\n",
      "+------+--------------+\n",
      "|  1   |      DT      |\n",
      "|  2   |      RF      |\n",
      "|  3   |     ANN      |\n",
      "|  4   |      LR      |\n",
      "|  5   |     SVM      |\n",
      "+------+--------------+\n"
     ]
    }
   ],
   "source": [
    "\n",
    "l = Sort(l)\n",
    "\n",
    "x = PrettyTable()\n",
    "x.field_names = ['Rank','ML algorithm']\n",
    "for i in range(len(l)):\n",
    "    x.add_row([i+1 ,l[i][0]])\n",
    "print('Based on training accuracy most preferred algorithm (arranged from most to least accurate):')\n",
    "print(x)"
   ]
  },
  {
   "cell_type": "code",
   "execution_count": 168,
   "metadata": {},
   "outputs": [],
   "source": [
    "l=list([['LR',lr_acc_test],['DT',dt_acc_test],['RF',rf_acc_test],['ANN',ann_acc_test],['SVM',svm_acc_test]])"
   ]
  },
  {
   "cell_type": "code",
   "execution_count": 169,
   "metadata": {},
   "outputs": [
    {
     "name": "stdout",
     "output_type": "stream",
     "text": [
      "Based on testing accuracy most preferred algorithm  (arranged from most to least accurate) :\n",
      "+------+--------------+\n",
      "| Rank | ML algorithm |\n",
      "+------+--------------+\n",
      "|  1   |      RF      |\n",
      "|  2   |      DT      |\n",
      "|  3   |     ANN      |\n",
      "|  4   |      LR      |\n",
      "|  5   |     SVM      |\n",
      "+------+--------------+\n"
     ]
    }
   ],
   "source": [
    "  \n",
    "l = Sort(l)\n",
    "\n",
    "x = PrettyTable()\n",
    "x.field_names = ['Rank','ML algorithm']\n",
    "for i in range(len(l)):\n",
    "    x.add_row([i+1 ,l[i][0]])\n",
    "print('Based on testing accuracy most preferred algorithm  (arranged from most to least accurate) :')\n",
    "print(x)"
   ]
  },
  {
   "cell_type": "code",
   "execution_count": 164,
   "metadata": {},
   "outputs": [],
   "source": [
    "l=list([['LR',time_l_lr],['DT',time_l_dt],['RF',time_l_rf],['ANN',time_l_ann],['SVM',time_l_svm]])"
   ]
  },
  {
   "cell_type": "code",
   "execution_count": 165,
   "metadata": {},
   "outputs": [
    {
     "name": "stdout",
     "output_type": "stream",
     "text": [
      "Based on training time most preferred algorithm  (arranged from least to most time taken) :\n",
      "+------+--------------+\n",
      "| Rank | ML algorithm |\n",
      "+------+--------------+\n",
      "|  1   |      DT      |\n",
      "|  2   |      RF      |\n",
      "|  3   |     ANN      |\n",
      "|  4   |      LR      |\n",
      "|  5   |     SVM      |\n",
      "+------+--------------+\n"
     ]
    }
   ],
   "source": [
    "l = Sorti(l)\n",
    "x = PrettyTable()\n",
    "x.field_names = ['Rank','ML algorithm']\n",
    "for i in range(len(l)):\n",
    "    x.add_row([i+1 ,l[i][0]])\n",
    "print('Based on training time most preferred algorithm  (arranged from least to most time taken) :')\n",
    "print(x)"
   ]
  },
  {
   "cell_type": "code",
   "execution_count": 153,
   "metadata": {},
   "outputs": [],
   "source": [
    "l=list([['LR',time_fit_lr],['DT',time_fit_dt],['RF',time_fit_rf],['ANN',time_fit_ann],['SVM',time_fit_svm]])"
   ]
  },
  {
   "cell_type": "code",
   "execution_count": 166,
   "metadata": {},
   "outputs": [
    {
     "name": "stdout",
     "output_type": "stream",
     "text": [
      "Based on testing time most preferred algorithm  (arranged from least to most time taken):\n",
      "+------+--------------+\n",
      "| Rank | ML algorithm |\n",
      "+------+--------------+\n",
      "|  1   |      DT      |\n",
      "|  2   |      RF      |\n",
      "|  3   |     ANN      |\n",
      "|  4   |      LR      |\n",
      "|  5   |     SVM      |\n",
      "+------+--------------+\n"
     ]
    }
   ],
   "source": [
    "l = Sorti(l)\n",
    "x = PrettyTable()\n",
    "x.field_names = ['Rank','ML algorithm']\n",
    "for i in range(len(l)):\n",
    "    x.add_row([i+1 ,l[i][0]])\n",
    "print('Based on testing time most preferred algorithm  (arranged from least to most time taken):')\n",
    "print(x)"
   ]
  },
  {
   "cell_type": "code",
   "execution_count": 172,
   "metadata": {},
   "outputs": [
    {
     "name": "stdout",
     "output_type": "stream",
     "text": [
      "** CONCLUSION **\n",
      "Thus it can be concluded that one should use RF technique on these kind of datasets for solving cyberattacks on IoT network because RF predicted D.P, M.C, M.O, SC, SP, W.S attacks accurately compared to other approaches\n"
     ]
    }
   ],
   "source": [
    "print('** CONCLUSION **')\n",
    "print(\"Thus it can be concluded that one should use RF technique on these kind of datasets for solving cyberattacks on IoT network because RF predicted D.P, M.C, M.O, SC, SP, W.S attacks accurately compared to other approaches\")"
   ]
  },
  {
   "cell_type": "code",
   "execution_count": null,
   "metadata": {},
   "outputs": [],
   "source": []
  },
  {
   "cell_type": "code",
   "execution_count": null,
   "metadata": {},
   "outputs": [],
   "source": []
  },
  {
   "cell_type": "code",
   "execution_count": null,
   "metadata": {},
   "outputs": [],
   "source": []
  },
  {
   "cell_type": "code",
   "execution_count": null,
   "metadata": {},
   "outputs": [],
   "source": []
  },
  {
   "cell_type": "code",
   "execution_count": null,
   "metadata": {},
   "outputs": [],
   "source": []
  }
 ],
 "metadata": {
  "kernelspec": {
   "display_name": "Python 3",
   "language": "python",
   "name": "python3"
  },
  "language_info": {
   "codemirror_mode": {
    "name": "ipython",
    "version": 3
   },
   "file_extension": ".py",
   "mimetype": "text/x-python",
   "name": "python",
   "nbconvert_exporter": "python",
   "pygments_lexer": "ipython3",
   "version": "3.7.4"
  }
 },
 "nbformat": 4,
 "nbformat_minor": 2
}
